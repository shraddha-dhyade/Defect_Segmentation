{
 "cells": [
  {
   "cell_type": "markdown",
   "metadata": {
    "colab_type": "text",
    "id": "DymbI5OJIuFF"
   },
   "source": [
    "# Google Colab\n",
    "Set the Runtime to GPU from the menu on the top left of this webpage\n",
    "\n",
    "Importing data to Google Colab"
   ]
  },
  {
   "cell_type": "code",
   "execution_count": 1,
   "metadata": {
    "colab": {
     "base_uri": "https://localhost:8080/",
     "height": 122
    },
    "colab_type": "code",
    "id": "btxaZDpGNQ_6",
    "outputId": "848a84a4-0351-4938-8395-9b80ca7daf8e"
   },
   "outputs": [
    {
     "name": "stdout",
     "output_type": "stream",
     "text": [
      "Go to this URL in a browser: https://accounts.google.com/o/oauth2/auth?client_id=947318989803-6bn6qk8qdgf4n4g3pfee6491hc0brc4i.apps.googleusercontent.com&redirect_uri=urn%3aietf%3awg%3aoauth%3a2.0%3aoob&response_type=code&scope=email%20https%3a%2f%2fwww.googleapis.com%2fauth%2fdocs.test%20https%3a%2f%2fwww.googleapis.com%2fauth%2fdrive%20https%3a%2f%2fwww.googleapis.com%2fauth%2fdrive.photos.readonly%20https%3a%2f%2fwww.googleapis.com%2fauth%2fpeopleapi.readonly\n",
      "\n",
      "Enter your authorization code:\n",
      "··········\n",
      "Mounted at /content/gdrive\n"
     ]
    }
   ],
   "source": [
    "from google.colab import drive\n",
    "drive.mount('/content/gdrive')"
   ]
  },
  {
   "cell_type": "code",
   "execution_count": null,
   "metadata": {
    "colab": {
     "base_uri": "https://localhost:8080/",
     "height": 1000
    },
    "colab_type": "code",
    "id": "U8E-Mmg-NYbs",
    "outputId": "2cb67ce9-b12c-4e99-dbe5-26af7202948c"
   },
   "outputs": [],
   "source": [
    "# Copy data to google colab from google drive and unzip\n",
    "# This may take 1-2 minutes\n",
    "!cp gdrive/My\\ Drive/optical_data.zip .\n",
    "!unzip optical_data.zip"
   ]
  },
  {
   "cell_type": "code",
   "execution_count": 3,
   "metadata": {
    "colab": {
     "base_uri": "https://localhost:8080/",
     "height": 34
    },
    "colab_type": "code",
    "id": "O4NbKxhPNk_u",
    "outputId": "4c06ffe9-dc0d-42d3-e47f-74777b83fd86"
   },
   "outputs": [
    {
     "name": "stdout",
     "output_type": "stream",
     "text": [
      "Class1\tClass2\tClass3\tClass4\tClass5\tClass6\tClass7\n"
     ]
    }
   ],
   "source": [
    "# You should be able to see 7 Classes here\n",
    "!ls data"
   ]
  },
  {
   "cell_type": "markdown",
   "metadata": {
    "colab_type": "text",
    "id": "HkvMl2Mt-BrB"
   },
   "source": [
    "Sample Output : Class1 Class2\tClass3\tClass4\tClass5\tClass6\tClass7"
   ]
  },
  {
   "cell_type": "markdown",
   "metadata": {
    "colab_type": "text",
    "id": "H-GSOCv7ImGM"
   },
   "source": [
    "# Main Notebook"
   ]
  },
  {
   "cell_type": "code",
   "execution_count": 4,
   "metadata": {
    "colab": {
     "base_uri": "https://localhost:8080/",
     "height": 34
    },
    "colab_type": "code",
    "id": "yFTcpgYxNyJU",
    "outputId": "ed33d3f2-ae3c-4945-e776-41f9c2177be5"
   },
   "outputs": [
    {
     "name": "stderr",
     "output_type": "stream",
     "text": [
      "Using TensorFlow backend.\n"
     ]
    }
   ],
   "source": [
    "import os\n",
    "import sys\n",
    "import time\n",
    "import warnings\n",
    "from random import shuffle\n",
    "\n",
    "import numpy as np\n",
    "import pandas as pd\n",
    "from keras.callbacks import ModelCheckpoint, EarlyStopping\n",
    "from keras.optimizers import Adam\n",
    "from tensorflow.python.lib.io import file_io\n",
    "from skimage.transform import resize\n",
    "import numpy as np\n",
    "import keras\n",
    "from keras import backend as K\n",
    "import cv2\n",
    "from sklearn.model_selection import train_test_split\n",
    "\n",
    "warnings.filterwarnings(\"ignore\")"
   ]
  },
  {
   "cell_type": "markdown",
   "metadata": {
    "colab_type": "text",
    "id": "P6Rilzb2Lnhz"
   },
   "source": [
    "# Data Loading"
   ]
  },
  {
   "cell_type": "code",
   "execution_count": 0,
   "metadata": {
    "colab": {},
    "colab_type": "code",
    "id": "o9SvNhLPN55O"
   },
   "outputs": [],
   "source": [
    "# Not all data in the dataset has defects. We only use the images which have defects\n",
    "# This function takes the dataset_type as a parameter. You can pass \"Train\" or \"Test\"\n",
    "# as argument to get the appropriate dataset\n",
    "def load_data(dataset_type=\"Train\"):\n",
    "    file_list = {}\n",
    "    defect_map = {}\n",
    "    file_name = []\n",
    "    file_mask = []\n",
    "    count = 0\n",
    "    num_classes = 6\n",
    "\n",
    "    data_dir = \"data\"\n",
    "    for x in range(1, num_classes + 1):\n",
    "        path = os.path.join(os.path.join(data_dir, \"Class\" + str(x)), dataset_type)\n",
    "        df = pd.read_fwf(path + \"/Label/Labels.txt\")\n",
    "        count = 0\n",
    "        for i in range(0, len(df)):\n",
    "            curr_file = path + \"/\" + str(df.iloc[i][2])\n",
    "            if (df.iloc[i][1] == 1):\n",
    "                file_list[curr_file] = path + \"/Label/\" + str(df.iloc[i][4])\n",
    "                defect_map[curr_file] = 1\n",
    "            else:\n",
    "                fnametest = str(df.iloc[i][2]).split(\".\")\n",
    "                file_list[curr_file] = str(path + \"/Label/\" + fnametest[0] + \"_label.PNG\")\n",
    "                defect_map[curr_file] = 0\n",
    "\n",
    "    items = list(file_list.keys())\n",
    "    shuffle(items)\n",
    "    for key in items:\n",
    "        if ((not os.path.exists(key)) or (not os.path.exists(file_list[key]))):\n",
    "            # print (\"Missing mask for \", key)\n",
    "            continue\n",
    "\n",
    "        if defect_map[key] == 1:\n",
    "            file_name.append(key)\n",
    "            file_mask.append(file_list[key])\n",
    "        elif count < 80 * num_classes:\n",
    "            file_name.append(key)\n",
    "            file_mask.append(file_list[key])\n",
    "            count = count + 1\n",
    "\n",
    "    return file_name, file_mask"
   ]
  },
  {
   "cell_type": "markdown",
   "metadata": {
    "colab_type": "text",
    "id": "YMvNNG8nLq1N"
   },
   "source": [
    "Since the dataset is so large that it cannot fit into memory, we will need to use generator functions to iteratively load the dataset"
   ]
  },
  {
   "cell_type": "code",
   "execution_count": 0,
   "metadata": {
    "colab": {},
    "colab_type": "code",
    "id": "VJkcX59nQnQ8"
   },
   "outputs": [],
   "source": [
    "# This is generator class to process data in batches and send them for training\n",
    "class Surface_Generator(keras.utils.Sequence):\n",
    "\n",
    "    def __init__(self, image_filenames, labels, batch_size, test=False):\n",
    "        self.image_filenames, self.labels = image_filenames, labels\n",
    "        self.batch_size = batch_size\n",
    "\n",
    "    # return the total number of batches you have i.e., total_files/batch_size\n",
    "    def __len__(self):\n",
    "        return (len(self.image_filenames) // self.batch_size)\n",
    "\n",
    "    # this function is called for every mini-batch to get the images/masks for that mini-batch\n",
    "    def __getitem__(self, idx):\n",
    "        batch_x = self.image_filenames[idx * self.batch_size:(idx + 1) * self.batch_size]\n",
    "        batch_y = self.labels[idx * self.batch_size:(idx + 1) * self.batch_size]\n",
    "        image_arr = []\n",
    "        mask_arr = []\n",
    "        # Open a batch of images and their corresponding masks using cv2.imread\n",
    "        # resize them to 512x512x1 and return an np.array of images and masks\n",
    "        for file in batch_x:\n",
    "          image_arr.append(resize(cv2.imread(file),(512,512,1)))\n",
    "        for file in batch_y:\n",
    "          img = cv2.imread(file)\n",
    "          gray = cv2.cvtColor(img, cv2.COLOR_BGR2GRAY)\n",
    "          thresh, binary = cv2.threshold(gray, 128, 255, cv2.THRESH_BINARY)\n",
    "          mask_arr.append(resize(binary,(512,512,1)))\n",
    "          \n",
    "        return np.array(image_arr).astype(np.float32), np.array(mask_arr).astype(np.float32)\n",
    "    \n",
    "    # for testing we need to get the list of all true masks\n",
    "    # this function should return all the labels in the dataset set \n",
    "    # we will call this function only for the \"Test\" dataset\n",
    "    def get_all_masks(self):\n",
    "        mask_arr = []\n",
    "        \n",
    "        for file in self.image_filenames:\n",
    "          img = cv2.imread(file)\n",
    "          gray = cv2.cvtColor(img, cv2.COLOR_BGR2GRAY)\n",
    "          #thresh, binary = cv2.threshold(gray, 128, 255, cv2.THRESH_BINARY)\n",
    "          mask_arr.append(resize(gray,(512,512,1)))\n",
    "        return np.array(mask_arr).astype(np.float32)\n"
   ]
  },
  {
   "cell_type": "code",
   "execution_count": 0,
   "metadata": {
    "colab": {},
    "colab_type": "code",
    "id": "FxpOAQeZQsBA"
   },
   "outputs": [],
   "source": [
    "# Since we already have a split for training and test set,\n",
    "# we just need to split training set to get a validation set\n",
    "\n",
    "# Load training data\n",
    "X, Y = load_data(\"Train\")\n"
   ]
  },
  {
   "cell_type": "code",
   "execution_count": 8,
   "metadata": {
    "colab": {
     "base_uri": "https://localhost:8080/",
     "height": 34
    },
    "colab_type": "code",
    "id": "w1idQGTVQ0XZ",
    "outputId": "e30a32d1-e5a5-4cf0-d3e3-64b1401b488e"
   },
   "outputs": [
    {
     "name": "stdout",
     "output_type": "stream",
     "text": [
      "(740,) (740,) (186,) (186,)\n"
     ]
    }
   ],
   "source": [
    "# Split the original training data to get training and validation set\n",
    "# to get X_train, X_val, y_train, y_val\n",
    "X_train_data, X_val_data, y_train_data, y_val_data = train_test_split( X, Y, test_size=0.2)\n",
    "\n",
    "# Convert to numpy arrays\n",
    "X_train = np.array(X_train_data)\n",
    "X_val = np.array(X_val_data)\n",
    "y_train = np.array(y_train_data)\n",
    "y_val = np.array(y_val_data)\n",
    "\n",
    "print(X_train.shape, y_train.shape, X_val.shape, y_val.shape)"
   ]
  },
  {
   "cell_type": "markdown",
   "metadata": {
    "colab_type": "text",
    "id": "pzVG7OlIKzPC"
   },
   "source": [
    "The output shape after the split should be \n",
    "(740,) (740,) (186,) (186,)"
   ]
  },
  {
   "cell_type": "code",
   "execution_count": 9,
   "metadata": {
    "colab": {
     "base_uri": "https://localhost:8080/",
     "height": 34
    },
    "colab_type": "code",
    "id": "euDgzs6sQ6oN",
    "outputId": "81642b8b-5366-41cb-f9a7-1ac30e231fb3"
   },
   "outputs": [
    {
     "data": {
      "text/plain": [
       "170"
      ]
     },
     "execution_count": 9,
     "metadata": {
      "tags": []
     },
     "output_type": "execute_result"
    }
   ],
   "source": [
    "# Free memory\n",
    "import gc\n",
    "del X\n",
    "del Y\n",
    "gc.collect()"
   ]
  },
  {
   "cell_type": "markdown",
   "metadata": {
    "colab_type": "text",
    "id": "Pg95L-qULPUY"
   },
   "source": [
    "# Metrics\n",
    "\n",
    "Use keras.backend to calculate dice coefficient metric and dice coefficient loss function.\n",
    "\n",
    "Recall that dice_coeff = 2 \\* intersection / union\n",
    "\n",
    "We add a smoothing parameter and modify the formula to\n",
    "\n",
    "dice_coeff = 2 \\* (intersection + smooth) / (union + smooth)\n",
    "\n",
    "Our objective is to make dice_coeff as close to 1.0 as possible. \n",
    "Define and use the appropriate loss function."
   ]
  },
  {
   "cell_type": "code",
   "execution_count": 0,
   "metadata": {
    "colab": {},
    "colab_type": "code",
    "id": "DJH3FrSiQ-Np"
   },
   "outputs": [],
   "source": [
    "# Dice Coefficient metric\n",
    "def dice_coef(y_true, y_pred):\n",
    "    smooth = 1\n",
    "    y_true_f = K.flatten(y_true)\n",
    "    y_pred_f = K.flatten(y_pred)\n",
    "    intersection = K.sum(y_true_f * y_pred_f)\n",
    "\n",
    "    return (2. * intersection + smooth) / (K.sum(y_true_f) + K.sum(y_pred_f) + smooth)\n",
    "    \n",
    "    \n",
    "\n",
    "\n",
    "# Dice Coefficient loss\n",
    "def dice_coef_loss(y_true, y_pred):\n",
    "    return 1-dice_coef(y_true, y_pred)"
   ]
  },
  {
   "cell_type": "markdown",
   "metadata": {
    "colab_type": "text",
    "id": "Pynq8QkQMQfV"
   },
   "source": [
    "# Model\n",
    "\n",
    "U-net architeture has proved to be very powerful for segmentation tasks.\n",
    "\n",
    "We will be creating a Unet model based on the paper : \n",
    "\n",
    "[U-Net: Convolutional Networks for Biomedical Image Segmentation](https://arxiv.org/pdf/1505.04597.pdf)\n",
    "\n",
    "---\n",
    "\n",
    "A picture of the architecture we plan to use is provided in the project description pdf.\n",
    "\n",
    "We will create a Convolutional block module to help us build the model.\n",
    "\n",
    "Each convolutional block module will contain two trainable layers. \n",
    "\n",
    "Each layer will be a Convolution operation followed by batch normalization with relu activation.\n",
    "\n",
    "\n",
    "\n",
    "The U-net architecture has a contracting path, a convolution and then an expansive path.\n",
    "\n",
    "We will use instances of the convolutional block to create the contracting and expansive path."
   ]
  },
  {
   "cell_type": "code",
   "execution_count": 0,
   "metadata": {
    "colab": {},
    "colab_type": "code",
    "id": "WfDjPLV6RCU1"
   },
   "outputs": [],
   "source": [
    "from keras.layers import Conv2DTranspose, Dropout, Activation, BatchNormalization, UpSampling2D, Concatenate\n",
    "from keras.layers import Input, Conv2D, MaxPooling2D, concatenate, Conv1D, Flatten\n",
    "from keras.models import Model\n",
    "\n",
    "# Create a 2D convolution block. We will use multiple instances of this block to build our U-net model\n",
    "# This block will contain two layers. \n",
    "# Each layer will be a Convolution operation followed by batch normalization with relu activation \n",
    "def conv2d_block(input_tensor, n_filters, kernel_size):\n",
    "    # first layer\n",
    "    x = Conv2D(filters = n_filters, kernel_size = (kernel_size, kernel_size), padding='same', kernel_initializer='he_normal' )(input_tensor)    \n",
    "    x = BatchNormalization()(x)\n",
    "    x = Activation('relu')(x)\n",
    "    \n",
    "    # second layer\n",
    "    x = Conv2D(filters = n_filters, kernel_size = (kernel_size, kernel_size), padding='same', kernel_initializer='he_normal' )(x)\n",
    "    x = BatchNormalization()(x)\n",
    "    x = Activation('relu')(x)\n",
    "    \n",
    "    # return the output tensor\n",
    "    return x\n",
    "\n",
    "\n",
    "def get_unet_model(n_filters=16, dropout_prob=0.5, kernel_size=3):\n",
    "    input_img = Input((512, 512, 1))\n",
    "    \n",
    "    # contracting path\n",
    "    c1 = conv2d_block(input_img, n_filters, kernel_size)\n",
    "    p1 = MaxPooling2D(pool_size = (2, 2))(c1)\n",
    "    p1 = Dropout(0.5*dropout_prob)(p1)\n",
    "\n",
    "    c2 = conv2d_block(p1, 2*n_filters, kernel_size)\n",
    "    p2 = MaxPooling2D(pool_size = (2, 2))(c2)\n",
    "    p2 = Dropout(0.5*dropout_prob)(p2)\n",
    "\n",
    "    c3 = conv2d_block(p2, 4*n_filters, kernel_size)\n",
    "    p3 = MaxPooling2D(pool_size = (2, 2))(c3)\n",
    "    p3 = Dropout(0.5*dropout_prob)(p3)\n",
    "\n",
    "    c4 = conv2d_block(p3, 8*n_filters, kernel_size)\n",
    "    p4 = MaxPooling2D(pool_size = (2, 2))(c4)\n",
    "    p4 = Dropout(0.5*dropout_prob)(p4)\n",
    "\n",
    "    c5 = conv2d_block(p4, 16*n_filters, kernel_size)\n",
    "    \n",
    "    # Expansive path\n",
    "    u6 = Conv2DTranspose(filters = 8*n_filters, kernel_size = (kernel_size, kernel_size), padding='same',strides = (2,2) )(c5)\n",
    "    u6 = Concatenate()([c4, u6])\n",
    "    u6 = Dropout(0.5*dropout_prob)(u6)\n",
    "    c6 = conv2d_block(u6, 8*n_filters, kernel_size)\n",
    "    \n",
    "    u7 = Conv2DTranspose(filters = 4*n_filters, kernel_size = (kernel_size, kernel_size), padding='same',strides = (2,2) )(c6)\n",
    "    u7 = Concatenate()([c3, u7])\n",
    "    u7 = Dropout(0.5*dropout_prob)(u7)\n",
    "    c7 = conv2d_block(u7, 4*n_filters, kernel_size)\n",
    "    \n",
    "    u8 = Conv2DTranspose(filters = 2*n_filters, kernel_size = (kernel_size, kernel_size), padding='same',strides = (2,2) )(c7)\n",
    "    u8 = Concatenate()([c2, u8])\n",
    "    u8 = Dropout(0.5*dropout_prob)(u8)\n",
    "    c8 = conv2d_block(u8, 2*n_filters, kernel_size)\n",
    "\n",
    "    u9 = Conv2DTranspose(filters = n_filters, kernel_size = (kernel_size, kernel_size), padding='same',strides = (2,2) )(c8)\n",
    "    u9 = Concatenate()([c1, u9])\n",
    "    u9 = Dropout(0.5*dropout_prob)(u9)\n",
    "    c9 = conv2d_block(u9, n_filters, kernel_size)\n",
    "    #c9 = Flatten()(c9)\n",
    "    \n",
    "    outputs = Conv2D(filters = 1, kernel_size = (1, 1), activation = 'sigmoid' )(c9)\n",
    "\n",
    "    model = Model(inputs=[input_img], outputs=[outputs])\n",
    "\n",
    "    return model"
   ]
  },
  {
   "cell_type": "code",
   "execution_count": 0,
   "metadata": {
    "colab": {},
    "colab_type": "code",
    "id": "sjJ5726iRFx0"
   },
   "outputs": [],
   "source": [
    "model_name = \"unet\"\n",
    "model = get_unet_model()"
   ]
  },
  {
   "cell_type": "code",
   "execution_count": 0,
   "metadata": {
    "colab": {},
    "colab_type": "code",
    "id": "d_jqzr-eRIC2"
   },
   "outputs": [],
   "source": [
    "batch_size = 8\n",
    "num_epochs = 50\n",
    "model.compile(loss=dice_coef_loss, optimizer=Adam(lr=0.0055), metrics=[dice_coef])"
   ]
  },
  {
   "cell_type": "code",
   "execution_count": 0,
   "metadata": {
    "colab": {},
    "colab_type": "code",
    "id": "ZApFLT87RJ9r"
   },
   "outputs": [],
   "source": [
    "num_training_samples = len(X_train)\n",
    "num_validation_samples = len(X_val)\n",
    "\n",
    "training_batch_generator = Surface_Generator(X_train_data, y_train_data, batch_size)\n",
    "validation_batch_generator = Surface_Generator(X_val_data, y_val_data, batch_size)"
   ]
  },
  {
   "cell_type": "code",
   "execution_count": 0,
   "metadata": {
    "colab": {},
    "colab_type": "code",
    "id": "wNJ2XW6NROHY"
   },
   "outputs": [],
   "source": [
    "# callbacks for saving models and early stopping\n",
    "checkpointer = ModelCheckpoint(model_name + \"/weights.{epoch:02d}-{val_loss:.2f}.hdf5\", monitor=dice_coef, verbose=1,\n",
    "                               save_best_only=True, mode='max')\n",
    "early_stopping = EarlyStopping(monitor='val_loss', min_delta=0, patience=10, verbose=1, mode='auto')"
   ]
  },
  {
   "cell_type": "code",
   "execution_count": 16,
   "metadata": {
    "colab": {
     "base_uri": "https://localhost:8080/",
     "height": 1000
    },
    "colab_type": "code",
    "id": "2O4UqMosRQgJ",
    "outputId": "16a255ec-dd78-4420-efb8-2630da93197a"
   },
   "outputs": [
    {
     "name": "stdout",
     "output_type": "stream",
     "text": [
      "Epoch 1/50\n",
      "91/92 [============================>.] - ETA: 1s - loss: 0.8967 - dice_coef: 0.1033Epoch 1/50\n",
      "Epoch 1/50\n",
      "92/92 [==============================] - 144s 2s/step - loss: 0.8966 - dice_coef: 0.1034 - val_loss: 0.9637 - val_dice_coef: 0.0323\n",
      "Epoch 2/50\n",
      "92/92 [==============================] - 124s 1s/step - loss: 0.9112 - dice_coef: 0.0888 - val_loss: 0.9623 - val_dice_coef: 0.0340\n",
      "Epoch 3/50\n",
      "92/92 [==============================] - 125s 1s/step - loss: 0.7324 - dice_coef: 0.2676 - val_loss: 0.8819 - val_dice_coef: 0.0636\n",
      "Epoch 4/50\n",
      "92/92 [==============================] - 125s 1s/step - loss: 0.6825 - dice_coef: 0.3175 - val_loss: 0.5464 - val_dice_coef: 0.2787\n",
      "Epoch 5/50\n",
      "92/92 [==============================] - 125s 1s/step - loss: 0.6876 - dice_coef: 0.3124 - val_loss: 0.9212 - val_dice_coef: 0.0568\n",
      "Epoch 6/50\n",
      "92/92 [==============================] - 125s 1s/step - loss: 0.6758 - dice_coef: 0.3242 - val_loss: 0.7977 - val_dice_coef: 0.1731\n",
      "Epoch 7/50\n",
      "92/92 [==============================] - 125s 1s/step - loss: 0.6623 - dice_coef: 0.3377 - val_loss: 0.3416 - val_dice_coef: 0.3669\n",
      "Epoch 8/50\n",
      "92/92 [==============================] - 125s 1s/step - loss: 0.6553 - dice_coef: 0.3447 - val_loss: 0.3195 - val_dice_coef: 0.4253\n",
      "Epoch 9/50\n",
      "92/92 [==============================] - 125s 1s/step - loss: 0.6549 - dice_coef: 0.3451 - val_loss: 0.5787 - val_dice_coef: 0.3228\n",
      "Epoch 10/50\n",
      "92/92 [==============================] - 125s 1s/step - loss: 0.6569 - dice_coef: 0.3431 - val_loss: 0.4870 - val_dice_coef: 0.2683\n",
      "Epoch 11/50\n",
      "92/92 [==============================] - 125s 1s/step - loss: 0.6339 - dice_coef: 0.3661 - val_loss: 0.3326 - val_dice_coef: 0.4042\n",
      "Epoch 12/50\n",
      "92/92 [==============================] - 125s 1s/step - loss: 0.6406 - dice_coef: 0.3594 - val_loss: 0.4846 - val_dice_coef: 0.3772\n",
      "Epoch 13/50\n",
      "92/92 [==============================] - 125s 1s/step - loss: 0.6280 - dice_coef: 0.3720 - val_loss: 0.3424 - val_dice_coef: 0.4471\n",
      "Epoch 14/50\n",
      "92/92 [==============================] - 126s 1s/step - loss: 0.6183 - dice_coef: 0.3817 - val_loss: 1.0000 - val_dice_coef: 0.0345\n",
      "Epoch 15/50\n",
      "92/92 [==============================] - 125s 1s/step - loss: 0.6041 - dice_coef: 0.3959 - val_loss: 1.0000 - val_dice_coef: 0.0482\n",
      "Epoch 16/50\n",
      "92/92 [==============================] - 125s 1s/step - loss: 0.6112 - dice_coef: 0.3888 - val_loss: 0.3372 - val_dice_coef: 0.4475\n",
      "Epoch 17/50\n",
      "92/92 [==============================] - 125s 1s/step - loss: 0.6135 - dice_coef: 0.3865 - val_loss: 0.5146 - val_dice_coef: 0.3488\n",
      "Epoch 18/50\n",
      "92/92 [==============================] - 125s 1s/step - loss: 0.6036 - dice_coef: 0.3964 - val_loss: 0.7853 - val_dice_coef: 0.1919\n",
      "Epoch 19/50\n",
      "92/92 [==============================] - 125s 1s/step - loss: 0.6071 - dice_coef: 0.3929 - val_loss: 0.3443 - val_dice_coef: 0.4409\n",
      "Epoch 20/50\n",
      "92/92 [==============================] - 125s 1s/step - loss: 0.6064 - dice_coef: 0.3936 - val_loss: 0.3505 - val_dice_coef: 0.4507\n",
      "Epoch 21/50\n",
      "92/92 [==============================] - 125s 1s/step - loss: 0.5880 - dice_coef: 0.4120 - val_loss: 1.0000 - val_dice_coef: 0.0347\n",
      "Epoch 22/50\n",
      "92/92 [==============================] - 125s 1s/step - loss: 0.5817 - dice_coef: 0.4183 - val_loss: 1.0000 - val_dice_coef: 0.0839\n",
      "Epoch 23/50\n",
      "92/92 [==============================] - 125s 1s/step - loss: 0.5738 - dice_coef: 0.4262 - val_loss: 0.4400 - val_dice_coef: 0.4053\n",
      "Epoch 24/50\n",
      "92/92 [==============================] - 125s 1s/step - loss: 0.5575 - dice_coef: 0.4425 - val_loss: 1.0000 - val_dice_coef: 0.0125\n",
      "Epoch 25/50\n",
      "92/92 [==============================] - 125s 1s/step - loss: 0.5783 - dice_coef: 0.4217 - val_loss: 0.3601 - val_dice_coef: 0.4296\n",
      "Epoch 26/50\n",
      "92/92 [==============================] - 125s 1s/step - loss: 0.5435 - dice_coef: 0.4565 - val_loss: 0.3525 - val_dice_coef: 0.4554\n",
      "Epoch 27/50\n",
      "92/92 [==============================] - 125s 1s/step - loss: 0.5442 - dice_coef: 0.4558 - val_loss: 0.4492 - val_dice_coef: 0.4017\n",
      "Epoch 28/50\n",
      "92/92 [==============================] - 124s 1s/step - loss: 0.5640 - dice_coef: 0.4360 - val_loss: 0.3504 - val_dice_coef: 0.4671\n",
      "Epoch 29/50\n",
      "92/92 [==============================] - 124s 1s/step - loss: 0.5433 - dice_coef: 0.4567 - val_loss: 0.3494 - val_dice_coef: 0.4829\n",
      "Epoch 30/50\n",
      "92/92 [==============================] - 124s 1s/step - loss: 0.5405 - dice_coef: 0.4595 - val_loss: 0.3407 - val_dice_coef: 0.4789\n",
      "Epoch 31/50\n",
      "92/92 [==============================] - 124s 1s/step - loss: 0.5159 - dice_coef: 0.4841 - val_loss: 0.4217 - val_dice_coef: 0.4628\n",
      "Epoch 32/50\n",
      "92/92 [==============================] - 125s 1s/step - loss: 0.5145 - dice_coef: 0.4855 - val_loss: 0.3968 - val_dice_coef: 0.4940\n",
      "Epoch 33/50\n",
      "92/92 [==============================] - 124s 1s/step - loss: 0.5256 - dice_coef: 0.4744 - val_loss: 0.3761 - val_dice_coef: 0.5010\n",
      "Epoch 34/50\n",
      "92/92 [==============================] - 124s 1s/step - loss: 0.5199 - dice_coef: 0.4801 - val_loss: 0.6475 - val_dice_coef: 0.3209\n",
      "Epoch 35/50\n",
      "92/92 [==============================] - 125s 1s/step - loss: 0.4988 - dice_coef: 0.5012 - val_loss: 0.4092 - val_dice_coef: 0.4196\n",
      "Epoch 36/50\n",
      "92/92 [==============================] - 124s 1s/step - loss: 0.4996 - dice_coef: 0.5004 - val_loss: 0.3328 - val_dice_coef: 0.5479\n",
      "Epoch 37/50\n",
      "92/92 [==============================] - 124s 1s/step - loss: 0.4910 - dice_coef: 0.5090 - val_loss: 0.4710 - val_dice_coef: 0.4319\n",
      "Epoch 38/50\n",
      "92/92 [==============================] - 125s 1s/step - loss: 0.4971 - dice_coef: 0.5029 - val_loss: 0.6548 - val_dice_coef: 0.3199\n",
      "Epoch 39/50\n",
      "92/92 [==============================] - 125s 1s/step - loss: 0.4886 - dice_coef: 0.5114 - val_loss: 0.2896 - val_dice_coef: 0.5030\n",
      "Epoch 40/50\n",
      "92/92 [==============================] - 124s 1s/step - loss: 0.4886 - dice_coef: 0.5114 - val_loss: 0.3369 - val_dice_coef: 0.4560\n",
      "Epoch 41/50\n",
      "92/92 [==============================] - 124s 1s/step - loss: 0.5129 - dice_coef: 0.4871 - val_loss: 0.3795 - val_dice_coef: 0.4672\n",
      "Epoch 42/50\n",
      "92/92 [==============================] - 124s 1s/step - loss: 0.5088 - dice_coef: 0.4912 - val_loss: 0.5887 - val_dice_coef: 0.3933\n",
      "Epoch 43/50\n",
      "92/92 [==============================] - 124s 1s/step - loss: 0.4371 - dice_coef: 0.5629 - val_loss: 0.3064 - val_dice_coef: 0.5663\n",
      "Epoch 44/50\n",
      "92/92 [==============================] - 124s 1s/step - loss: 0.3841 - dice_coef: 0.6159 - val_loss: 0.4547 - val_dice_coef: 0.4084\n",
      "Epoch 45/50\n",
      "92/92 [==============================] - 124s 1s/step - loss: 0.3700 - dice_coef: 0.6300 - val_loss: 0.3223 - val_dice_coef: 0.6042\n",
      "Epoch 46/50\n",
      "92/92 [==============================] - 124s 1s/step - loss: 0.3602 - dice_coef: 0.6398 - val_loss: 0.3340 - val_dice_coef: 0.5864\n",
      "Epoch 47/50\n",
      "92/92 [==============================] - 124s 1s/step - loss: 0.3421 - dice_coef: 0.6579 - val_loss: 0.2185 - val_dice_coef: 0.5977\n",
      "Epoch 48/50\n",
      "92/92 [==============================] - 124s 1s/step - loss: 0.3345 - dice_coef: 0.6655 - val_loss: 0.1803 - val_dice_coef: 0.6105\n",
      "Epoch 49/50\n",
      "92/92 [==============================] - 125s 1s/step - loss: 0.3591 - dice_coef: 0.6409 - val_loss: 0.2037 - val_dice_coef: 0.6099\n",
      "Epoch 50/50\n",
      "92/92 [==============================] - 124s 1s/step - loss: 0.3372 - dice_coef: 0.6628 - val_loss: 0.3120 - val_dice_coef: 0.5487\n",
      "Time taken:  6263619\n"
     ]
    }
   ],
   "source": [
    "# Fit model\n",
    "stmillis = int(round(time.time() * 1000))\n",
    "history = model.fit_generator(generator=training_batch_generator,\n",
    "                    steps_per_epoch=(num_training_samples // batch_size),\n",
    "                    epochs=num_epochs,\n",
    "                    verbose=1,\n",
    "                    validation_data=validation_batch_generator,\n",
    "                    validation_steps=(num_validation_samples // batch_size),\n",
    "                    use_multiprocessing=True,\n",
    "                    workers=5,\n",
    "                    max_queue_size=1,\n",
    "                    callbacks=[checkpointer])\n",
    "endmillis = int(round(time.time() * 1000))\n",
    "print(\"Time taken: \", endmillis - stmillis)"
   ]
  },
  {
   "cell_type": "code",
   "execution_count": 0,
   "metadata": {
    "colab": {},
    "colab_type": "code",
    "id": "7jq-6v_iRoge"
   },
   "outputs": [],
   "source": [
    "# Save the trained weights\n",
    "model.save(model_name + \".h5\")\n",
    "\n",
    "# Save model config as json\n",
    "model_json = model.to_json()\n",
    "with open(model_name + \".json\", \"w\") as json_file:\n",
    "    json_file.write(model_json)\n",
    "\n",
    "# Persist the model to your google drive [VERY IMPORTANT]\n",
    "!cp unet.* gdrive/My\\ Drive/"
   ]
  },
  {
   "cell_type": "code",
   "execution_count": 18,
   "metadata": {
    "colab": {
     "base_uri": "https://localhost:8080/",
     "height": 51
    },
    "colab_type": "code",
    "id": "5kbWdUpQRqbp",
    "outputId": "0cd453d2-62f2-455c-d2e0-3528be68eb87"
   },
   "outputs": [
    {
     "name": "stdout",
     "output_type": "stream",
     "text": [
      "-rw------- 1 root root 26252328 Jun  1 18:15 'gdrive/My Drive/unet.h5'\n",
      "-rw------- 1 root root    35219 Jun  1 18:15 'gdrive/My Drive/unet.json'\n"
     ]
    }
   ],
   "source": [
    "# Confirm if model did get saved\n",
    "!ls -ltr gdrive/My\\ Drive/unet*"
   ]
  },
  {
   "cell_type": "code",
   "execution_count": 0,
   "metadata": {
    "colab": {},
    "colab_type": "code",
    "id": "zt2MGrsIRtMc"
   },
   "outputs": [],
   "source": [
    "# In case you wish to load your saved model\n",
    "!cp gdrive/My\\ Drive/unet* .\n",
    "\n",
    "model.load_weights(\"unet.h5\")"
   ]
  },
  {
   "cell_type": "code",
   "execution_count": 20,
   "metadata": {
    "colab": {
     "base_uri": "https://localhost:8080/",
     "height": 34
    },
    "colab_type": "code",
    "id": "IYLEtXv0SBV-",
    "outputId": "9659afeb-f17a-4191-aa2c-afc2f209c8a1"
   },
   "outputs": [
    {
     "name": "stdout",
     "output_type": "stream",
     "text": [
      "(454,) (454,)\n"
     ]
    }
   ],
   "source": [
    "import gc\n",
    "gc.collect()\n",
    "\n",
    "# Load test data in X_test and y_test\n",
    "X_test_data, y_test_data = load_data(\"Test\")\n",
    "X_test = np.array(X_test_data)\n",
    "y_test = np.array(y_test_data)\n",
    "print (X_test.shape, y_test.shape)"
   ]
  },
  {
   "cell_type": "markdown",
   "metadata": {
    "colab_type": "text",
    "id": "T6Z-UydF9wFR"
   },
   "source": [
    "Output shape should be (454,) (454,)"
   ]
  },
  {
   "cell_type": "code",
   "execution_count": 0,
   "metadata": {
    "colab": {},
    "colab_type": "code",
    "id": "qNHj37q6SDZb"
   },
   "outputs": [],
   "source": [
    "np.random.seed = 629\n",
    "p = np.random.permutation(len(X_test))\n",
    "X_test = X_test[p]\n",
    "y_test = y_test[p]"
   ]
  },
  {
   "cell_type": "code",
   "execution_count": 22,
   "metadata": {
    "colab": {
     "base_uri": "https://localhost:8080/",
     "height": 34
    },
    "colab_type": "code",
    "id": "iJIR4YCCSIbQ",
    "outputId": "395b941c-ab80-4abe-c501-7abff07e9521"
   },
   "outputs": [
    {
     "name": "stdout",
     "output_type": "stream",
     "text": [
      "227/227 [==============================] - 42s 187ms/step\n"
     ]
    }
   ],
   "source": [
    "# Predict using model.predict_generator().\n",
    "num_testing_samples = len(X_test)\n",
    "batch_size = 2\n",
    "\n",
    "test_data_generator = Surface_Generator(X_test_data, y_test_data, batch_size)\n",
    "y_pred = model.predict_generator(generator=test_data_generator,\n",
    "                    steps=(num_testing_samples // batch_size),\n",
    "                    verbose=1,\n",
    "                    use_multiprocessing=True,\n",
    "                    workers=5,\n",
    "                    max_queue_size=1)"
   ]
  },
  {
   "cell_type": "code",
   "execution_count": 23,
   "metadata": {
    "colab": {
     "base_uri": "https://localhost:8080/",
     "height": 34
    },
    "colab_type": "code",
    "id": "VR_xU9ECSKpO",
    "outputId": "80f8cae3-18d6-4790-a2e3-dca75a08b363"
   },
   "outputs": [
    {
     "name": "stdout",
     "output_type": "stream",
     "text": [
      "Dice coefficient on test data:  0.017973376\n"
     ]
    }
   ],
   "source": [
    "# y_true will have the true masks\n",
    "y_true = test_data_generator.get_all_masks()\n",
    "#print(np.round(y_pred))\n",
    "\n",
    "print (\"Dice coefficient on test data: \", K.get_value(dice_coef(y_true, y_pred)))"
   ]
  },
  {
   "cell_type": "markdown",
   "metadata": {
    "colab_type": "text",
    "id": "TVuJ6cCTfeXB"
   },
   "source": [
    "Visulaizing the mask for a random image"
   ]
  },
  {
   "cell_type": "code",
   "execution_count": 0,
   "metadata": {
    "colab": {},
    "colab_type": "code",
    "id": "BkDtpeuBSOie"
   },
   "outputs": [],
   "source": [
    "# Convert sigmoid outputs to binary class labels\n",
    "y_pred[20][y_pred[20] >= 0.5] = 1\n",
    "y_pred[20][y_pred[20] < 0.5] = 0"
   ]
  },
  {
   "cell_type": "code",
   "execution_count": 25,
   "metadata": {
    "colab": {
     "base_uri": "https://localhost:8080/",
     "height": 269
    },
    "colab_type": "code",
    "id": "AQXE551iSQjy",
    "outputId": "780a2cf4-f71b-4442-895f-e698b61f40c5"
   },
   "outputs": [
    {
     "data": {
      "image/png": "[encoded data removed]",
      "text/plain": [
       "<Figure size 432x288 with 1 Axes>"
      ]
     },
     "metadata": {
      "needs_background": "light",
      "tags": []
     },
     "output_type": "display_data"
    }
   ],
   "source": [
    "import matplotlib.pyplot as plt\n",
    "plt.imshow(y_true[20][:,:,0], cmap='gray')\n",
    "plt.show()"
   ]
  },
  {
   "cell_type": "code",
   "execution_count": 26,
   "metadata": {
    "colab": {
     "base_uri": "https://localhost:8080/",
     "height": 269
    },
    "colab_type": "code",
    "id": "sfWdXFYLSSdD",
    "outputId": "fbd4b5ed-a97f-4d87-fa53-f74b2ce234a2"
   },
   "outputs": [
    {
     "data": {
      "image/png": "[encoded data removed]",
      "text/plain": [
       "<Figure size 432x288 with 1 Axes>"
      ]
     },
     "metadata": {
      "needs_background": "light",
      "tags": []
     },
     "output_type": "display_data"
    }
   ],
   "source": [
    "plt.imshow(y_pred[20][:,:,0], cmap='gray')\n",
    "plt.show()"
   ]
  },
  {
   "cell_type": "code",
   "execution_count": 27,
   "metadata": {
    "colab": {
     "base_uri": "https://localhost:8080/",
     "height": 34
    },
    "colab_type": "code",
    "id": "g_8c8eUpSUoF",
    "outputId": "f871093a-4244-4fe8-caed-613a40d3e248"
   },
   "outputs": [
    {
     "data": {
      "text/plain": [
       "0.03394568"
      ]
     },
     "execution_count": 27,
     "metadata": {
      "tags": []
     },
     "output_type": "execute_result"
    }
   ],
   "source": [
    "# Dice coefficient on this example\n",
    "K.get_value(dice_coef(y_true[20], y_pred[20]))"
   ]
  },
  {
   "cell_type": "markdown",
   "metadata": {
    "colab_type": "text",
    "id": "Z9PebgnFu3Yu"
   },
   "source": [
    "Data augmentation techniques almost always help in improving the performance of deep learning models."
   ]
  }
 ],
 "metadata": {
  "accelerator": "GPU",
  "colab": {
   "collapsed_sections": [],
   "name": "Defect_segmentation_on_Textured_Surfaces_sddhyade.ipynb",
   "provenance": []
  },
  "kernelspec": {
   "display_name": "Python 3",
   "language": "python",
   "name": "python3"
  },
  "language_info": {
   "codemirror_mode": {
    "name": "ipython",
    "version": 3
   },
   "file_extension": ".py",
   "mimetype": "text/x-python",
   "name": "python",
   "nbconvert_exporter": "python",
   "pygments_lexer": "ipython3",
   "version": "3.6.5"
  }
 },
 "nbformat": 4,
 "nbformat_minor": 1
}
